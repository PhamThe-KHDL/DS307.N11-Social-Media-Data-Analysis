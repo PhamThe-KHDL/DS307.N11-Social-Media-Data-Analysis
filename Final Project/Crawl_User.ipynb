{
 "cells": [
  {
   "cell_type": "code",
   "execution_count": 10,
   "metadata": {},
   "outputs": [
    {
     "name": "stdout",
     "output_type": "stream",
     "text": [
      "Requirement already satisfied: webdriver-manager in c:\\users\\trant\\appdata\\local\\programs\\python\\python311\\lib\\site-packages (3.8.5)Note: you may need to restart the kernel to use updated packages.\n",
      "\n",
      "Requirement already satisfied: requests in c:\\users\\trant\\appdata\\local\\programs\\python\\python311\\lib\\site-packages (from webdriver-manager) (2.28.1)\n",
      "Requirement already satisfied: python-dotenv in c:\\users\\trant\\appdata\\local\\programs\\python\\python311\\lib\\site-packages (from webdriver-manager) (0.21.0)\n",
      "Requirement already satisfied: tqdm in c:\\users\\trant\\appdata\\local\\programs\\python\\python311\\lib\\site-packages (from webdriver-manager) (4.64.1)\n",
      "Requirement already satisfied: packaging in c:\\users\\trant\\appdata\\roaming\\python\\python311\\site-packages (from webdriver-manager) (21.3)\n",
      "Requirement already satisfied: pyparsing!=3.0.5,>=2.0.2 in c:\\users\\trant\\appdata\\roaming\\python\\python311\\site-packages (from packaging->webdriver-manager) (3.0.9)\n",
      "Requirement already satisfied: charset-normalizer<3,>=2 in c:\\users\\trant\\appdata\\local\\programs\\python\\python311\\lib\\site-packages (from requests->webdriver-manager) (2.1.1)\n",
      "Requirement already satisfied: idna<4,>=2.5 in c:\\users\\trant\\appdata\\local\\programs\\python\\python311\\lib\\site-packages (from requests->webdriver-manager) (3.4)\n",
      "Requirement already satisfied: urllib3<1.27,>=1.21.1 in c:\\users\\trant\\appdata\\local\\programs\\python\\python311\\lib\\site-packages (from requests->webdriver-manager) (1.26.12)\n",
      "Requirement already satisfied: certifi>=2017.4.17 in c:\\users\\trant\\appdata\\local\\programs\\python\\python311\\lib\\site-packages (from requests->webdriver-manager) (2022.9.24)\n",
      "Requirement already satisfied: colorama in c:\\users\\trant\\appdata\\roaming\\python\\python311\\site-packages (from tqdm->webdriver-manager) (0.4.6)\n"
     ]
    }
   ],
   "source": [
    "pip install webdriver-manager"
   ]
  },
  {
   "cell_type": "code",
   "execution_count": 14,
   "metadata": {},
   "outputs": [
    {
     "name": "stdout",
     "output_type": "stream",
     "text": [
      "- Finish importing packages\n"
     ]
    }
   ],
   "source": [
    "# Import libraries and packages for the project \n",
    "\n",
    "from selenium import webdriver\n",
    "from selenium.webdriver.common.keys import Keys\n",
    "from bs4 import BeautifulSoup\n",
    "from time import sleep\n",
    "import requests\n",
    "import re\n",
    "import time\n",
    "import datetime\n",
    "from tqdm import tqdm\n",
    "import numpy as np\n",
    "import csv\n",
    "from selenium.webdriver.common.by import By\n",
    "import pandas as pd\n",
    "# Task 1.1: Open Chrome and Access Linkedin login site\n",
    "from webdriver_manager.chrome import ChromeDriverManager\n",
    "from selenium import webdriver     \n",
    "\n",
    "\n",
    "print('- Finish importing packages')"
   ]
  },
  {
   "cell_type": "code",
   "execution_count": 12,
   "metadata": {},
   "outputs": [],
   "source": [
    "def normalize_text(text):\n",
    "    text = re.sub('\\n+', ' ', text)\n",
    "    text = re.sub('\\r', '', text)\n",
    "    text = re.sub('   ', '', text)\n",
    "    text = re.sub('  ', ' ', text)\n",
    "    return text"
   ]
  },
  {
   "cell_type": "code",
   "execution_count": 17,
   "metadata": {},
   "outputs": [],
   "source": [
    "# Hàm lấy dữ liệu\n",
    "def crawl_user_data_TV365(url):\n",
    "  content_user = requests.get(url).content\n",
    "  soup_user = BeautifulSoup(content_user, 'html.parser')\n",
    "  # ID của ứng viên\n",
    "  userid = soup_user.find('div', {'class': 'box_ctuv_1'}).find('p', {'title': 'Mã hồ sơ'}).text\n",
    "  userid = re.findall(r'\\d+', userid)[0]\n",
    "  # Tên của ứng viên\n",
    "  user_name = soup_user.find('div', {'class': 'uvv_text'}).find('h1').text\n",
    "  # Ngành nghề -> Có thể null\n",
    "  industrys = soup_user.find('div', {'class': 'box_ctuv_4'}).find('p').find_all('span')\n",
    "  industry = []\n",
    "  for i in industrys:\n",
    "    industry.append(i.text)\n",
    "  # Công việc mong muốn\n",
    "  desired_job = soup_user.find('div', {'class': 'box_ctuv_4'}).find_all('p')[1].find('b').text\n",
    "  # Nơi mong muốn làm việc -> Có thể null\n",
    "  workplace_desireds = soup_user.find('div', {'class': 'box_ctuv_4'}).find_all('p')[2].find_all('span')\n",
    "  workplace_desired = []\n",
    "  for i in workplace_desireds:\n",
    "    workplace_desired.append(i.text)\n",
    "  # Chỗ ở hiện tại \n",
    "  current_place_of_residence = soup_user.find('div', {'class': 'box_ctuv_4'}).find_all('p')[3].text[16:]\n",
    "  # Tỉnh thành -> Có thể null\n",
    "  try:\n",
    "    province = soup_user.find('div', {'class': 'box_ctuv_4'}).find_all('p')[4]\n",
    "    province = province.text[12:]\n",
    "  except:\n",
    "    province = '?'\n",
    "  # Quận huyện -> Có thể null\n",
    "  try:\n",
    "    district = soup_user.find('div', {'class': 'box_ctuv_4'}).find_all('p')[5].text[12:]\n",
    "  except:\n",
    "    district = '?'\n",
    "  # Mức lương mong muốn\n",
    "  desired_salary = soup_user.find('div', {'class': 'box_ctuv_4'}).find('p', {'title': 'Mức lương'}).find('span').text\n",
    "  # Giới tính -> Có thể null\n",
    "  try:\n",
    "    gender = soup_user.find('div', {'class': 'box_ctuv_1'}).find('p', {'title': 'giới tính'})\n",
    "    gender = normalize_text(gender.text.strip())[11:]\n",
    "  except:\n",
    "    gender = '?'\n",
    "  # Hôn nhân -> Có thể null\n",
    "  try:\n",
    "    marriage = soup_user.find('div', {'class': 'box_ctuv_1'}).find('p', {'title': 'Hôn nhân'})\n",
    "    marriage = normalize_text(marriage.text.strip())[10:]\n",
    "  except:\n",
    "    marriage = '?'\n",
    "  # Ngày sinh -> Có thể null\n",
    "  try:\n",
    "    date_of_birth = soup_user.find('div', {'class': 'box_ctuv_1'}).find('p', {'title': 'ngày sinh'})\n",
    "    date_of_birth = normalize_text(date_of_birth.text.strip())[11:]\n",
    "  except:\n",
    "    date_of_birth = '?'\n",
    "  # Kinh nghiệm làm việc\n",
    "  work_experience = soup_user.find('div', {'class': 'box_ctuv_1'}).find_all('p')[-1].find('span').text\n",
    "  #-------------------------------------------------------------# \n",
    "  browser.get(url)\n",
    "  try:\n",
    "    target = browser.find_elements(By.CLASS_NAME, \"s-text-spa\")[0].get_attribute(\"textContent\").strip()\n",
    "    skills = browser.find_elements(By.CLASS_NAME, \"s-text-spa\")[1].get_attribute(\"textContent\").strip()\n",
    "    degree = browser.find_elements(By.CLASS_NAME, \"item_ttcv\")[0].get_attribute(\"textContent\").strip()\n",
    "  except:\n",
    "    target = '?'\n",
    "    skills = '?'\n",
    "    degree = '?'\n",
    "    \n",
    "      # Mục tiêu nghề nghiệp\n",
    "  # career_goals = soup_user.find('div', {'class': 'content_cv_uv'}).find_all('div', {'class':'box_hs_detail'})[1].find('div', {'class':'s-text-spa'}).text\n",
    "  # Kĩ năng bản thân\n",
    "  return [userid, user_name, industry, desired_job, workplace_desired, current_place_of_residence, province, district, desired_salary, gender, marriage, date_of_birth, target,skills,degree,work_experience]"
   ]
  },
  {
   "cell_type": "code",
   "execution_count": null,
   "metadata": {},
   "outputs": [],
   "source": [
    "df_url = pd.read_csv('user_url_TV365.csv')\n",
    "df_url"
   ]
  },
  {
   "cell_type": "code",
   "execution_count": 20,
   "metadata": {},
   "outputs": [],
   "source": [
    "# lấy link\n",
    "list_url_user_TV365 = df_url['URL User'].to_list()"
   ]
  },
  {
   "cell_type": "code",
   "execution_count": 25,
   "metadata": {},
   "outputs": [
    {
     "name": "stderr",
     "output_type": "stream",
     "text": [
      "C:\\Users\\trant\\AppData\\Local\\Temp\\ipykernel_13460\\619218532.py:4: DeprecationWarning: executable_path has been deprecated, please pass in a Service object\n",
      "  browser = webdriver.Chrome(ChromeDriverManager().install())\n",
      "100%|██████████| 1000/1000 [03:39<00:00,  4.55it/s]\n"
     ]
    }
   ],
   "source": [
    "url_user, userid, user_name, industrys, desired_job, workplace_desired, current_place_of_residence = [], [], [], [], [], [], []\n",
    "province, district, desired_salary, gender, marriage, date_of_birth,target,skills,degree, work_experience = [], [], [], [], [], [], [],[],[],[]\n",
    "\n",
    "browser = webdriver.Chrome(ChromeDriverManager().install())\n",
    "for url in tqdm(list_url_user_TV365[0:16000]): #### lấy số link để crawl\n",
    "  try:\n",
    "    user_data_TV365 = crawl_user_data_TV365(url)\n",
    "    url_user.append(url)\n",
    "    userid.append(user_data_TV365[0])\n",
    "    user_name.append(user_data_TV365[1])\n",
    "    industrys.append(user_data_TV365[2])\n",
    "    desired_job.append(user_data_TV365[3])\n",
    "    workplace_desired.append(user_data_TV365[4])\n",
    "    current_place_of_residence.append(user_data_TV365[5])\n",
    "    province.append(user_data_TV365[6])\n",
    "    district.append(user_data_TV365[7])\n",
    "    desired_salary.append(user_data_TV365[8])\n",
    "    gender.append(user_data_TV365[9])\n",
    "    marriage.append(user_data_TV365[10])\n",
    "    date_of_birth.append(user_data_TV365[11])\n",
    "    target.append(user_data_TV365[12])\n",
    "    skills.append(user_data_TV365[13])\n",
    "    degree.append(user_data_TV365[14])\n",
    "    \n",
    "    work_experience.append(user_data_TV365[15])\n",
    "  except:\n",
    "    # print(url)\n",
    "    continue"
   ]
  },
  {
   "cell_type": "code",
   "execution_count": 22,
   "metadata": {},
   "outputs": [
    {
     "data": {
      "text/html": [
       "<div>\n",
       "<style scoped>\n",
       "    .dataframe tbody tr th:only-of-type {\n",
       "        vertical-align: middle;\n",
       "    }\n",
       "\n",
       "    .dataframe tbody tr th {\n",
       "        vertical-align: top;\n",
       "    }\n",
       "\n",
       "    .dataframe thead th {\n",
       "        text-align: right;\n",
       "    }\n",
       "</style>\n",
       "<table border=\"1\" class=\"dataframe\">\n",
       "  <thead>\n",
       "    <tr style=\"text-align: right;\">\n",
       "      <th></th>\n",
       "      <th>URL User</th>\n",
       "      <th>UserID</th>\n",
       "      <th>User Name</th>\n",
       "      <th>Industry</th>\n",
       "      <th>Desired Job</th>\n",
       "      <th>Workplace Desired</th>\n",
       "      <th>Current Place of Residence</th>\n",
       "      <th>Province</th>\n",
       "      <th>District</th>\n",
       "      <th>Desired Salary</th>\n",
       "      <th>Gender</th>\n",
       "      <th>Marriage</th>\n",
       "      <th>Date of Birth</th>\n",
       "      <th>Target</th>\n",
       "      <th>Skills</th>\n",
       "      <th>Degree</th>\n",
       "      <th>Work Experience</th>\n",
       "    </tr>\n",
       "  </thead>\n",
       "  <tbody>\n",
       "    <tr>\n",
       "      <th>0</th>\n",
       "      <td>https://timviec365.vn/ung-vien/nguyen-quan-uv9...</td>\n",
       "      <td>964496</td>\n",
       "      <td>Nguyễn Quân</td>\n",
       "      <td>[Vận tải - Lái xe, Vận chuyển giao nhận]</td>\n",
       "      <td>Nhân viên lái xe bằng B2</td>\n",
       "      <td>[Hà Nội]</td>\n",
       "      <td>Quận Ba Đình, Hà Nội</td>\n",
       "      <td>Hà Nội</td>\n",
       "      <td>Quận Ba Đình</td>\n",
       "      <td>Thỏa thuận</td>\n",
       "      <td>Nam</td>\n",
       "      <td>Đã có gia đình</td>\n",
       "      <td>03/01/1986</td>\n",
       "      <td>Với kinh nghiệm 10 năm trong lĩnh vực lái xe t...</td>\n",
       "      <td>- Bằng lái xe hạng C, D, E và có kinh nghiệm 5...</td>\n",
       "      <td>Đơn vị đào tạo: Trường trung cấp nghề</td>\n",
       "      <td>Trên 5 năm</td>\n",
       "    </tr>\n",
       "  </tbody>\n",
       "</table>\n",
       "</div>"
      ],
      "text/plain": [
       "                                            URL User  UserID    User Name  \\\n",
       "0  https://timviec365.vn/ung-vien/nguyen-quan-uv9...  964496  Nguyễn Quân   \n",
       "\n",
       "                                   Industry               Desired Job  \\\n",
       "0  [Vận tải - Lái xe, Vận chuyển giao nhận]  Nhân viên lái xe bằng B2   \n",
       "\n",
       "  Workplace Desired Current Place of Residence Province      District  \\\n",
       "0          [Hà Nội]       Quận Ba Đình, Hà Nội   Hà Nội  Quận Ba Đình   \n",
       "\n",
       "  Desired Salary Gender        Marriage Date of Birth  \\\n",
       "0     Thỏa thuận    Nam  Đã có gia đình    03/01/1986   \n",
       "\n",
       "                                              Target  \\\n",
       "0  Với kinh nghiệm 10 năm trong lĩnh vực lái xe t...   \n",
       "\n",
       "                                              Skills  \\\n",
       "0  - Bằng lái xe hạng C, D, E và có kinh nghiệm 5...   \n",
       "\n",
       "                                  Degree Work Experience  \n",
       "0  Đơn vị đào tạo: Trường trung cấp nghề      Trên 5 năm  "
      ]
     },
     "execution_count": 22,
     "metadata": {},
     "output_type": "execute_result"
    }
   ],
   "source": [
    "Dataset_user = pd.DataFrame({'URL User': url_user,\n",
    "                            'UserID': userid,\n",
    "                            'User Name': user_name,\n",
    "                            'Industry': industrys,\n",
    "                            'Desired Job': desired_job,\n",
    "                            'Workplace Desired': workplace_desired,\n",
    "                            'Current Place of Residence': current_place_of_residence,\n",
    "                            'Province': province,\n",
    "                            'District': district,\n",
    "                            'Desired Salary': desired_salary,\n",
    "                            'Gender': gender,\n",
    "                            'Marriage': marriage,\n",
    "                            'Date of Birth': date_of_birth,\n",
    "                            'Target': target,\n",
    "                            'Skills':skills,\n",
    "                            'Degree':degree,\n",
    "                            'Work Experience': work_experience})\n",
    "\n",
    "Dataset_user"
   ]
  },
  {
   "cell_type": "code",
   "execution_count": 24,
   "metadata": {},
   "outputs": [],
   "source": [
    "Dataset_user.to_csv('Dataset_user.csv')"
   ]
  }
 ],
 "metadata": {
  "kernelspec": {
   "display_name": "Python 3",
   "language": "python",
   "name": "python3"
  },
  "language_info": {
   "codemirror_mode": {
    "name": "ipython",
    "version": 3
   },
   "file_extension": ".py",
   "mimetype": "text/x-python",
   "name": "python",
   "nbconvert_exporter": "python",
   "pygments_lexer": "ipython3",
   "version": "3.11.0 (main, Oct 24 2022, 18:26:48) [MSC v.1933 64 bit (AMD64)]"
  },
  "orig_nbformat": 4,
  "vscode": {
   "interpreter": {
    "hash": "19fb232f823fabc733696c08e1100f86cf6f0105dfd9c6030cdc821937ca525c"
   }
  }
 },
 "nbformat": 4,
 "nbformat_minor": 2
}
